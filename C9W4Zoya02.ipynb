{
 "cells": [
  {
   "cell_type": "markdown",
   "metadata": {
    "collapsed": true
   },
   "source": [
    "   # Coursera_IBM Captsone Final Project \n",
    "   \n",
    "   ## 1. Introduction and Business Problem:\n",
    "   \n",
    "   #### A client would like to open a new business, however the client is confused about the following:\n",
    "   \n",
    "   ##### a) Which type of business to open at which location?\n",
    "   \n",
    "   \n",
    "   #### In this jupyter notebook, I will analyse the optimal areas in Canada to open a new business, along with their respective category"
   ]
  },
  {
   "cell_type": "markdown",
   "metadata": {},
   "source": [
    "#### For the aforementioned cited problem, I will analyse the neighborhoods of Canada, using the Foursquare API. Also, through the help of data wrangling, and analysis, I will be able to make clusters using Kmeans machine learning model, to suggest the right business at the right locations."
   ]
  },
  {
   "cell_type": "markdown",
   "metadata": {},
   "source": [
    " ## 2. Sources of Data:\n",
    " \n",
    " #### For the problem cited above, the data would be gathered from multiple locations listed below:\n",
    " \n",
    " ##### a) Wikipedia - Areas of Canada- https://en.wikipedia.org/wiki/List_of_postal_codes_of_Canada:_M\n",
    " ##### b) Foursquare API to collect venue information for each area.\n",
    " ##### c) Point \"B\" will be used to determine the top venues in each area.\n",
    "\n",
    "#### After the aforementioned data has been collected, clusters will be formed based on venue categories using K means Machine Learning model. This will allow the model to determine not only the best business idea but its location at the same time."
   ]
  },
  {
   "cell_type": "code",
   "execution_count": null,
   "metadata": {},
   "outputs": [],
   "source": []
  }
 ],
 "metadata": {
  "kernelspec": {
   "display_name": "Python 3.5",
   "language": "python",
   "name": "python3"
  },
  "language_info": {
   "codemirror_mode": {
    "name": "ipython",
    "version": 3
   },
   "file_extension": ".py",
   "mimetype": "text/x-python",
   "name": "python",
   "nbconvert_exporter": "python",
   "pygments_lexer": "ipython3",
   "version": "3.5.5"
  }
 },
 "nbformat": 4,
 "nbformat_minor": 1
}